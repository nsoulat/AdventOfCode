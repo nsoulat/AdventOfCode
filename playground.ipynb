{
 "cells": [
  {
   "cell_type": "code",
   "execution_count": 3,
   "metadata": {},
   "outputs": [
    {
     "name": "stdout",
     "output_type": "stream",
     "text": [
      "expected 12, got 12\n"
     ]
    }
   ],
   "source": [
    "from pathlib import Path\n",
    "from utils.file import read_file_line_by_line\n",
    "\n",
    "from year2023.day18.main import Day\n",
    "import sys, os\n",
    "\n",
    "#  ###\n",
    "#  #.#\n",
    "#  #.#\n",
    "#  ###\n",
    "got = Day.resolve_part1([\"R 2 ()\", \"D 3 ()\", \"L 2 ()\", \"U 3 ()\"])\n",
    "print(f\"expected {12}, got {got}\")\n",
    "\n",
    "tests_dir = Path(os.path.abspath(sys.modules[Day.__module__].__file__)).parent / \"tests\"\n",
    "\n",
    "input_ = read_file_line_by_line(tests_dir / \"test01.txt\")\n",
    "result_part1 = Day.resolve_part1(input_)\n",
    "expected = 62\n",
    "assert (\n",
    "    result_part1 == expected\n",
    "), f\"Part 1 is incorrect, expected {expected}, got {result_part1}\"\n",
    "\n",
    "\n",
    "input_ = read_file_line_by_line(tests_dir / \"test01.txt\")\n",
    "result_part2 = Day.resolve_part2(input_)\n",
    "expected = 952408144115\n",
    "assert (\n",
    "    result_part2 == expected\n",
    "), f\"Part 2 is incorrect, expected {expected}, got {result_part2}\""
   ]
  },
  {
   "cell_type": "code",
   "execution_count": 4,
   "metadata": {},
   "outputs": [
    {
     "name": "stdout",
     "output_type": "stream",
     "text": [
      "part1:  36807\n",
      "part2:  48797603984357\n"
     ]
    }
   ],
   "source": [
    "from pathlib import Path\n",
    "from utils.file import read_file_line_by_line\n",
    "\n",
    "from year2023.day18.main import Day\n",
    "import sys, os\n",
    "\n",
    "\n",
    "dir = Path(os.path.abspath(sys.modules[Day.__module__].__file__)).parent\n",
    "\n",
    "input_ = read_file_line_by_line(dir / \"input.txt\")\n",
    "print(\"part1: \", Day.resolve_part1(input_))\n",
    "\n",
    "\n",
    "input_ = read_file_line_by_line(dir / \"input.txt\")\n",
    "print(\"part2: \", Day.resolve_part2(input_))"
   ]
  }
 ],
 "metadata": {
  "kernelspec": {
   "display_name": "Python 3",
   "language": "python",
   "name": "python3"
  },
  "language_info": {
   "codemirror_mode": {
    "name": "ipython",
    "version": 3
   },
   "file_extension": ".py",
   "mimetype": "text/x-python",
   "name": "python",
   "nbconvert_exporter": "python",
   "pygments_lexer": "ipython3",
   "version": "3.10.10"
  },
  "orig_nbformat": 4
 },
 "nbformat": 4,
 "nbformat_minor": 2
}
